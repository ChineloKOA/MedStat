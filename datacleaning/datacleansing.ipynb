{
 "cells": [
  {
   "metadata": {},
   "cell_type": "markdown",
   "source": "",
   "id": "67fa1bcd20166135"
  },
  {
   "metadata": {},
   "cell_type": "markdown",
   "source": [
    "# BioMed Central (BMC) website. \n",
    "## Human Resources for Health \n",
    "\"**Physician emigration from Nigeria and the associated factors: the implications to safeguarding the Nigeria health system**\"\n",
    "By Cosmas Kenan Onah, Benedict Ndubueze Azuogu, Casmir Ndubuisi Ochie, Christian Obasi Akpa, Kingsley Chijioke Okeke, Anthony Okoafor Okpunwa, Hassan Muhammad Bello & George Onyemaechi Ugwu on 20 December 2022                                          Available:*https://human-resources-health.biomedcentral.com/articles/10.1186/s12960-022-00788-z#MOESM1*                      Access Date:19 July 2024                              \n",
    "\n"
   ],
   "id": "74635d983fcb0db7"
  },
  {
   "metadata": {},
   "cell_type": "code",
   "outputs": [],
   "execution_count": null,
   "source": "",
   "id": "88013962e620016f"
  },
  {
   "metadata": {
    "ExecuteTime": {
     "end_time": "2024-08-07T09:52:38.650731Z",
     "start_time": "2024-08-07T09:52:38.499657Z"
    }
   },
   "cell_type": "code",
   "source": [
    "import pandas as pd\n",
    "from helper.aws_helper import S3Connection"
   ],
   "id": "af31276145d8a6b9",
   "outputs": [],
   "execution_count": 1
  },
  {
   "cell_type": "code",
   "id": "initial_id",
   "metadata": {
    "collapsed": true,
    "ExecuteTime": {
     "end_time": "2024-08-07T09:52:41.329996Z",
     "start_time": "2024-08-07T09:52:40.652556Z"
    }
   },
   "source": [
    "# get dataset from website\n",
    "migration_dataset = pd.read_csv(\"https://static-content.springer.com/esm/art%3A10.1186%2Fs12960-022-00788-z\"\n",
    "                                \"/MediaObjects/12960_2022_788_MOESM1_ESM.csv\")"
   ],
   "outputs": [],
   "execution_count": 2
  },
  {
   "metadata": {
    "ExecuteTime": {
     "end_time": "2024-08-07T09:43:56.945198Z",
     "start_time": "2024-08-07T09:43:56.927430Z"
    }
   },
   "cell_type": "code",
   "source": "migration_dataset.shape",
   "id": "9cfc1d1bff9a324a",
   "outputs": [
    {
     "data": {
      "text/plain": [
       "(925, 24)"
      ]
     },
     "execution_count": 4,
     "metadata": {},
     "output_type": "execute_result"
    }
   ],
   "execution_count": 4
  },
  {
   "metadata": {},
   "cell_type": "markdown",
   "source": "### 925 physicians took part in this survey, 24 set of questions where asked",
   "id": "96d5ce0e776e8c3c"
  },
  {
   "metadata": {
    "ExecuteTime": {
     "end_time": "2024-08-07T09:44:01.298162Z",
     "start_time": "2024-08-07T09:44:01.271052Z"
    }
   },
   "cell_type": "code",
   "source": [
    "# see the first 5 dataset\n",
    "migration_dataset.head()"
   ],
   "id": "cb1e40b5b2841933",
   "outputs": [
    {
     "data": {
      "text/plain": [
       "                     Timestamp 1. Your age at your last birthday 2. Your sex  \\\n",
       "0  2021/07/28 3:08:54 PM GMT+1                                40      Female   \n",
       "1  2021/07/28 3:16:13 PM GMT+1                                28        Male   \n",
       "2  2021/07/28 3:18:55 PM GMT+1                                32      Female   \n",
       "3  2021/07/28 3:30:36 PM GMT+1                                29      Female   \n",
       "4  2021/07/28 3:35:42 PM GMT+1                                40        Male   \n",
       "\n",
       "  3. Marital status  \\\n",
       "0           Married   \n",
       "1            Single   \n",
       "2           Married   \n",
       "3           Married   \n",
       "4           Married   \n",
       "\n",
       "  4. If your answer to question 3 above is \"Married\" what is your spouse's profession?  \\\n",
       "0                        Non physician health worker                                     \n",
       "1                                                NaN                                     \n",
       "2                        Non physician health worker                                     \n",
       "3                                          Physician                                     \n",
       "4                                          Physician                                     \n",
       "\n",
       "  5. Your religion. (Please, specify the religion if your response is 'Other')  \\\n",
       "0                                       Christianity                             \n",
       "1                                       Christianity                             \n",
       "2                                       Christianity                             \n",
       "3                                       Christianity                             \n",
       "4                                       Christianity                             \n",
       "\n",
       "  6. Highest education acquired. (Please, specify if your response is 'Other')  \\\n",
       "0                                  Member WACP/NPMCN                             \n",
       "1                                               MBBS                             \n",
       "2                                               MBBS                             \n",
       "3                                               MBBS                             \n",
       "4                                               MBBS                             \n",
       "\n",
       "  7. What is your country of acquiring first professional (MBBS or equivalent) degree? (Please, specify the country if your response is 'Other')   \\\n",
       "0                                            Nigeria                                                                                                \n",
       "1                                            Nigeria                                                                                                \n",
       "2                                            Nigeria                                                                                                \n",
       "3                                            Nigeria                                                                                                \n",
       "4                                            Nigeria                                                                                                \n",
       "\n",
       "  8. What type of institution did you attend to obtain MBBS?  \\\n",
       "0                                  Public University           \n",
       "1                                  Public University           \n",
       "2                                  Public University           \n",
       "3                                  Public University           \n",
       "4                                  Public University           \n",
       "\n",
       "  9. What is your current professional cadre?  ...  \\\n",
       "0               Resident Doctor (in-training)  ...   \n",
       "1                             Medical Officer  ...   \n",
       "2               Resident Doctor (in-training)  ...   \n",
       "3                             Medical Officer  ...   \n",
       "4                      Fellow (post training)  ...   \n",
       "\n",
       "  14. How would you describe the location of your practice?  \\\n",
       "0                                              Urban          \n",
       "1                                              Urban          \n",
       "2                                              Urban          \n",
       "3                                         Semi-urban          \n",
       "4                                              Urban          \n",
       "\n",
       "  15. How satisfied are you with your current professional practice in Nigeria?  \\\n",
       "0                                   Very unsatisfied                              \n",
       "1                                   Very unsatisfied                              \n",
       "2                                        Unsatisfied                              \n",
       "3                                        Unsatisfied                              \n",
       "4                                   Very unsatisfied                              \n",
       "\n",
       "  16. Are you willing to continue your professional practice in Nigeria?   \\\n",
       "0                                                Yes                        \n",
       "1                                                 No                        \n",
       "2                                          Undecided                        \n",
       "3                                                 No                        \n",
       "4                                                 No                        \n",
       "\n",
       "  17. If your answer to question 16 above is “Yes”, what is/are your motivations or concerns? (Select as many that apply; Please, specify the concerns if your responses include \"Other\").  \\\n",
       "0                     Desire to maintain family ties                                                                                                                                         \n",
       "1                                                NaN                                                                                                                                         \n",
       "2                                                NaN                                                                                                                                         \n",
       "3                                                NaN                                                                                                                                         \n",
       "4                                                NaN                                                                                                                                         \n",
       "\n",
       "  18. If your answer to question 16 above is “Undecided”, what is/are your concerns regarding your future location of practice?  (Select as many that apply; Please, specify your reasons if your responses include \"Other\")   \\\n",
       "0                                                NaN                                                                                                                                                                            \n",
       "1                                                NaN                                                                                                                                                                            \n",
       "2  Uncertainty about Government policies on healt...                                                                                                                                                                            \n",
       "3                                                NaN                                                                                                                                                                            \n",
       "4                                                NaN                                                                                                                                                                            \n",
       "\n",
       "  19.\\tIf your answer to question 16 above is ‘No’, which country(ies) are you planning to emigrate to? (Select as many that apply; Please, specify the country if your responses include \"Other\")  \\\n",
       "0                                                NaN                                                                                                                                                 \n",
       "1      Qatar;United Kingdom;United States of America                                                                                                                                                 \n",
       "2                                                NaN                                                                                                                                                 \n",
       "3                                     United Kingdom                                                                                                                                                 \n",
       "4                           United States of America                                                                                                                                                 \n",
       "\n",
       "  20. If your answer to question 16 above is ‘No’, when are you planning to emigrate from Nigeria? (Select as many that apply; Please, specify the time if your responses include \"Other\")      \\\n",
       "0                                                NaN                                                                                                                                             \n",
       "1                 As soon as I get employment abroad                                                                                                                                             \n",
       "2                                                NaN                                                                                                                                             \n",
       "3                 As soon as I get employment abroad                                                                                                                                             \n",
       "4                     It depends on God's direction                                                                                                                                              \n",
       "\n",
       "  21. If your answer to question 16 above is “No”, what is/are reason(s) for your planned relocation of practice?  (Select as many that apply; Please, specify your reasons if your responses include \"Other\")   \\\n",
       "0                                                NaN                                                                                                                                                              \n",
       "1  Poor remuneration;Irregular pay;Delayed pay;Ha...                                                                                                                                                              \n",
       "2                                                NaN                                                                                                                                                              \n",
       "3  Poor remuneration;Irregular pay;Delayed pay;Ha...                                                                                                                                                              \n",
       "4                 To acquire further training/skills                                                                                                                                                              \n",
       "\n",
       "  22. If your answer to question 16 above is “No”, what is your planned length of stay outside Nigeria if you eventually relocate?    \\\n",
       "0                                                NaN                                                                                   \n",
       "1                                     Indefifintelly                                                                                   \n",
       "2                                                NaN                                                                                   \n",
       "3                                     Indefifintelly                                                                                   \n",
       "4                                          Undecided                                                                                   \n",
       "\n",
       "  23. If your answer to question 16 above is “No”, how likely is it that you will come back to Nigeria for practice after spending some time abroad?    \n",
       "0                                                NaN                                                                                                    \n",
       "1                                      Very unlikely                                                                                                    \n",
       "2                                                NaN                                                                                                    \n",
       "3                                           Unlikely                                                                                                    \n",
       "4                                                NaN                                                                                                    \n",
       "\n",
       "[5 rows x 24 columns]"
      ],
      "text/html": [
       "<div>\n",
       "<style scoped>\n",
       "    .dataframe tbody tr th:only-of-type {\n",
       "        vertical-align: middle;\n",
       "    }\n",
       "\n",
       "    .dataframe tbody tr th {\n",
       "        vertical-align: top;\n",
       "    }\n",
       "\n",
       "    .dataframe thead th {\n",
       "        text-align: right;\n",
       "    }\n",
       "</style>\n",
       "<table border=\"1\" class=\"dataframe\">\n",
       "  <thead>\n",
       "    <tr style=\"text-align: right;\">\n",
       "      <th></th>\n",
       "      <th>Timestamp</th>\n",
       "      <th>1. Your age at your last birthday</th>\n",
       "      <th>2. Your sex</th>\n",
       "      <th>3. Marital status</th>\n",
       "      <th>4. If your answer to question 3 above is \"Married\" what is your spouse's profession?</th>\n",
       "      <th>5. Your religion. (Please, specify the religion if your response is 'Other')</th>\n",
       "      <th>6. Highest education acquired. (Please, specify if your response is 'Other')</th>\n",
       "      <th>7. What is your country of acquiring first professional (MBBS or equivalent) degree? (Please, specify the country if your response is 'Other')</th>\n",
       "      <th>8. What type of institution did you attend to obtain MBBS?</th>\n",
       "      <th>9. What is your current professional cadre?</th>\n",
       "      <th>...</th>\n",
       "      <th>14. How would you describe the location of your practice?</th>\n",
       "      <th>15. How satisfied are you with your current professional practice in Nigeria?</th>\n",
       "      <th>16. Are you willing to continue your professional practice in Nigeria?</th>\n",
       "      <th>17. If your answer to question 16 above is “Yes”, what is/are your motivations or concerns? (Select as many that apply; Please, specify the concerns if your responses include \"Other\").</th>\n",
       "      <th>18. If your answer to question 16 above is “Undecided”, what is/are your concerns regarding your future location of practice?  (Select as many that apply; Please, specify your reasons if your responses include \"Other\")</th>\n",
       "      <th>19.\\tIf your answer to question 16 above is ‘No’, which country(ies) are you planning to emigrate to? (Select as many that apply; Please, specify the country if your responses include \"Other\")</th>\n",
       "      <th>20. If your answer to question 16 above is ‘No’, when are you planning to emigrate from Nigeria? (Select as many that apply; Please, specify the time if your responses include \"Other\")</th>\n",
       "      <th>21. If your answer to question 16 above is “No”, what is/are reason(s) for your planned relocation of practice?  (Select as many that apply; Please, specify your reasons if your responses include \"Other\")</th>\n",
       "      <th>22. If your answer to question 16 above is “No”, what is your planned length of stay outside Nigeria if you eventually relocate?</th>\n",
       "      <th>23. If your answer to question 16 above is “No”, how likely is it that you will come back to Nigeria for practice after spending some time abroad?</th>\n",
       "    </tr>\n",
       "  </thead>\n",
       "  <tbody>\n",
       "    <tr>\n",
       "      <th>0</th>\n",
       "      <td>2021/07/28 3:08:54 PM GMT+1</td>\n",
       "      <td>40</td>\n",
       "      <td>Female</td>\n",
       "      <td>Married</td>\n",
       "      <td>Non physician health worker</td>\n",
       "      <td>Christianity</td>\n",
       "      <td>Member WACP/NPMCN</td>\n",
       "      <td>Nigeria</td>\n",
       "      <td>Public University</td>\n",
       "      <td>Resident Doctor (in-training)</td>\n",
       "      <td>...</td>\n",
       "      <td>Urban</td>\n",
       "      <td>Very unsatisfied</td>\n",
       "      <td>Yes</td>\n",
       "      <td>Desire to maintain family ties</td>\n",
       "      <td>NaN</td>\n",
       "      <td>NaN</td>\n",
       "      <td>NaN</td>\n",
       "      <td>NaN</td>\n",
       "      <td>NaN</td>\n",
       "      <td>NaN</td>\n",
       "    </tr>\n",
       "    <tr>\n",
       "      <th>1</th>\n",
       "      <td>2021/07/28 3:16:13 PM GMT+1</td>\n",
       "      <td>28</td>\n",
       "      <td>Male</td>\n",
       "      <td>Single</td>\n",
       "      <td>NaN</td>\n",
       "      <td>Christianity</td>\n",
       "      <td>MBBS</td>\n",
       "      <td>Nigeria</td>\n",
       "      <td>Public University</td>\n",
       "      <td>Medical Officer</td>\n",
       "      <td>...</td>\n",
       "      <td>Urban</td>\n",
       "      <td>Very unsatisfied</td>\n",
       "      <td>No</td>\n",
       "      <td>NaN</td>\n",
       "      <td>NaN</td>\n",
       "      <td>Qatar;United Kingdom;United States of America</td>\n",
       "      <td>As soon as I get employment abroad</td>\n",
       "      <td>Poor remuneration;Irregular pay;Delayed pay;Ha...</td>\n",
       "      <td>Indefifintelly</td>\n",
       "      <td>Very unlikely</td>\n",
       "    </tr>\n",
       "    <tr>\n",
       "      <th>2</th>\n",
       "      <td>2021/07/28 3:18:55 PM GMT+1</td>\n",
       "      <td>32</td>\n",
       "      <td>Female</td>\n",
       "      <td>Married</td>\n",
       "      <td>Non physician health worker</td>\n",
       "      <td>Christianity</td>\n",
       "      <td>MBBS</td>\n",
       "      <td>Nigeria</td>\n",
       "      <td>Public University</td>\n",
       "      <td>Resident Doctor (in-training)</td>\n",
       "      <td>...</td>\n",
       "      <td>Urban</td>\n",
       "      <td>Unsatisfied</td>\n",
       "      <td>Undecided</td>\n",
       "      <td>NaN</td>\n",
       "      <td>Uncertainty about Government policies on healt...</td>\n",
       "      <td>NaN</td>\n",
       "      <td>NaN</td>\n",
       "      <td>NaN</td>\n",
       "      <td>NaN</td>\n",
       "      <td>NaN</td>\n",
       "    </tr>\n",
       "    <tr>\n",
       "      <th>3</th>\n",
       "      <td>2021/07/28 3:30:36 PM GMT+1</td>\n",
       "      <td>29</td>\n",
       "      <td>Female</td>\n",
       "      <td>Married</td>\n",
       "      <td>Physician</td>\n",
       "      <td>Christianity</td>\n",
       "      <td>MBBS</td>\n",
       "      <td>Nigeria</td>\n",
       "      <td>Public University</td>\n",
       "      <td>Medical Officer</td>\n",
       "      <td>...</td>\n",
       "      <td>Semi-urban</td>\n",
       "      <td>Unsatisfied</td>\n",
       "      <td>No</td>\n",
       "      <td>NaN</td>\n",
       "      <td>NaN</td>\n",
       "      <td>United Kingdom</td>\n",
       "      <td>As soon as I get employment abroad</td>\n",
       "      <td>Poor remuneration;Irregular pay;Delayed pay;Ha...</td>\n",
       "      <td>Indefifintelly</td>\n",
       "      <td>Unlikely</td>\n",
       "    </tr>\n",
       "    <tr>\n",
       "      <th>4</th>\n",
       "      <td>2021/07/28 3:35:42 PM GMT+1</td>\n",
       "      <td>40</td>\n",
       "      <td>Male</td>\n",
       "      <td>Married</td>\n",
       "      <td>Physician</td>\n",
       "      <td>Christianity</td>\n",
       "      <td>MBBS</td>\n",
       "      <td>Nigeria</td>\n",
       "      <td>Public University</td>\n",
       "      <td>Fellow (post training)</td>\n",
       "      <td>...</td>\n",
       "      <td>Urban</td>\n",
       "      <td>Very unsatisfied</td>\n",
       "      <td>No</td>\n",
       "      <td>NaN</td>\n",
       "      <td>NaN</td>\n",
       "      <td>United States of America</td>\n",
       "      <td>It depends on God's direction</td>\n",
       "      <td>To acquire further training/skills</td>\n",
       "      <td>Undecided</td>\n",
       "      <td>NaN</td>\n",
       "    </tr>\n",
       "  </tbody>\n",
       "</table>\n",
       "<p>5 rows × 24 columns</p>\n",
       "</div>"
      ]
     },
     "execution_count": 5,
     "metadata": {},
     "output_type": "execute_result"
    }
   ],
   "execution_count": 5
  },
  {
   "metadata": {
    "ExecuteTime": {
     "end_time": "2024-08-06T20:27:40.970488Z",
     "start_time": "2024-08-06T20:27:40.955761Z"
    }
   },
   "cell_type": "code",
   "source": [
    "# data types of columns in dataset\n",
    "migration_dataset.dtypes"
   ],
   "id": "a902754a6aee1124",
   "outputs": [
    {
     "data": {
      "text/plain": [
       "Timestamp                                                                                                                                                                                                                      object\n",
       "1. Your age at your last birthday                                                                                                                                                                                              object\n",
       "2. Your sex                                                                                                                                                                                                                    object\n",
       "3. Marital status                                                                                                                                                                                                              object\n",
       "4. If your answer to question 3 above is \"Married\" what is your spouse's profession?                                                                                                                                           object\n",
       "5. Your religion. (Please, specify the religion if your response is 'Other')                                                                                                                                                   object\n",
       "6. Highest education acquired. (Please, specify if your response is 'Other')                                                                                                                                                   object\n",
       "7. What is your country of acquiring first professional (MBBS or equivalent) degree? (Please, specify the country if your response is 'Other')                                                                                 object\n",
       "8. What type of institution did you attend to obtain MBBS?                                                                                                                                                                     object\n",
       "9. What is your current professional cadre?                                                                                                                                                                                    object\n",
       "10. What is your area of specialization or interest to specialize. (Please, specify the specialty if your response is 'Other')                                                                                                 object\n",
       "11. What is the duration of your professional (post MBBS) practice in years?                                                                                                                                                   object\n",
       "12. What is your state of practice or training?                                                                                                                                                                                object\n",
       "13. In what type of health facility are you currently practicing?                                                                                                                                                              object\n",
       "14. How would you describe the location of your practice?                                                                                                                                                                      object\n",
       "15. How satisfied are you with your current professional practice in Nigeria?                                                                                                                                                  object\n",
       "16. Are you willing to continue your professional practice in Nigeria?                                                                                                                                                         object\n",
       "17. If your answer to question 16 above is “Yes”, what is/are your motivations or concerns? (Select as many that apply; Please, specify the concerns if your responses include \"Other\").                                       object\n",
       "18. If your answer to question 16 above is “Undecided”, what is/are your concerns regarding your future location of practice?  (Select as many that apply; Please, specify your reasons if your responses include \"Other\")     object\n",
       "19.\\tIf your answer to question 16 above is ‘No’, which country(ies) are you planning to emigrate to? (Select as many that apply; Please, specify the country if your responses include \"Other\")                               object\n",
       "20. If your answer to question 16 above is ‘No’, when are you planning to emigrate from Nigeria? (Select as many that apply; Please, specify the time if your responses include \"Other\")                                       object\n",
       "21. If your answer to question 16 above is “No”, what is/are reason(s) for your planned relocation of practice?  (Select as many that apply; Please, specify your reasons if your responses include \"Other\")                   object\n",
       "22. If your answer to question 16 above is “No”, what is your planned length of stay outside Nigeria if you eventually relocate?                                                                                               object\n",
       "23. If your answer to question 16 above is “No”, how likely is it that you will come back to Nigeria for practice after spending some time abroad?                                                                             object\n",
       "dtype: object"
      ]
     },
     "execution_count": 42,
     "metadata": {},
     "output_type": "execute_result"
    }
   ],
   "execution_count": 42
  },
  {
   "metadata": {},
   "cell_type": "markdown",
   "source": "### All 24 columns are objects",
   "id": "a6cca13427a859f2"
  },
  {
   "metadata": {
    "ExecuteTime": {
     "end_time": "2024-08-07T09:10:29.913071Z",
     "start_time": "2024-08-07T09:10:29.903059Z"
    }
   },
   "cell_type": "code",
   "source": "migration_dataset.isnull().sum()",
   "id": "272b0e2c2d668232",
   "outputs": [
    {
     "data": {
      "text/plain": [
       "Timestamp                                                                                                                                                                                                                        0\n",
       "1. Your age at your last birthday                                                                                                                                                                                                0\n",
       "2. Your sex                                                                                                                                                                                                                      0\n",
       "3. Marital status                                                                                                                                                                                                                0\n",
       "4. If your answer to question 3 above is \"Married\" what is your spouse's profession?                                                                                                                                           219\n",
       "5. Your religion. (Please, specify the religion if your response is 'Other')                                                                                                                                                     2\n",
       "6. Highest education acquired. (Please, specify if your response is 'Other')                                                                                                                                                     0\n",
       "7. What is your country of acquiring first professional (MBBS or equivalent) degree? (Please, specify the country if your response is 'Other')                                                                                   0\n",
       "8. What type of institution did you attend to obtain MBBS?                                                                                                                                                                       0\n",
       "9. What is your current professional cadre?                                                                                                                                                                                      0\n",
       "10. What is your area of specialization or interest to specialize. (Please, specify the specialty if your response is 'Other')                                                                                                   2\n",
       "11. What is the duration of your professional (post MBBS) practice in years?                                                                                                                                                     1\n",
       "12. What is your state of practice or training?                                                                                                                                                                                  0\n",
       "13. In what type of health facility are you currently practicing?                                                                                                                                                                0\n",
       "14. How would you describe the location of your practice?                                                                                                                                                                        0\n",
       "15. How satisfied are you with your current professional practice in Nigeria?                                                                                                                                                    0\n",
       "16. Are you willing to continue your professional practice in Nigeria?                                                                                                                                                           0\n",
       "17. If your answer to question 16 above is “Yes”, what is/are your motivations or concerns? (Select as many that apply; Please, specify the concerns if your responses include \"Other\").                                       728\n",
       "18. If your answer to question 16 above is “Undecided”, what is/are your concerns regarding your future location of practice?  (Select as many that apply; Please, specify your reasons if your responses include \"Other\")     548\n",
       "19.\\tIf your answer to question 16 above is ‘No’, which country(ies) are you planning to emigrate to? (Select as many that apply; Please, specify the country if your responses include \"Other\")                               474\n",
       "20. If your answer to question 16 above is ‘No’, when are you planning to emigrate from Nigeria? (Select as many that apply; Please, specify the time if your responses include \"Other\")                                       493\n",
       "21. If your answer to question 16 above is “No”, what is/are reason(s) for your planned relocation of practice?  (Select as many that apply; Please, specify your reasons if your responses include \"Other\")                   487\n",
       "22. If your answer to question 16 above is “No”, what is your planned length of stay outside Nigeria if you eventually relocate?                                                                                               484\n",
       "23. If your answer to question 16 above is “No”, how likely is it that you will come back to Nigeria for practice after spending some time abroad?                                                                             482\n",
       "dtype: int64"
      ]
     },
     "execution_count": 38,
     "metadata": {},
     "output_type": "execute_result"
    }
   ],
   "execution_count": 38
  },
  {
   "metadata": {},
   "cell_type": "markdown",
   "source": [
    "##### There seems to be lots of \"missing\" values in these 8 columns: \n",
    "- 4. If your answer to question 3 above is \"Married\" what is your spouse's profession\n",
    "- 17. If your answer to question 16 above is “Yes”, what is/are your motivations or concerns? (Select as many that apply; Please, specify the concerns if your responses include \"Other\")\n",
    "- 18. If your answer to question 16 above is “Undecided”, what is/are your concerns regarding your future location of practice?  (Select as many that apply; Please, specify your reasons if your responses include \"Other\")\n",
    "- 19. If your answer to question 16 above is ‘No’, which country(ies) are you planning to emigrate to? (Select as many that apply; Please, specify the country if your responses include \"Other\")\n",
    "- 20. If your answer to question 16 above is ‘No’, when are you planning to emigrate from Nigeria? (Select as many that apply; Please, specify the time if your responses include \"Other\")\n",
    "- 21. If your answer to question 16 above is “No”, what is/are reason(s) for your planned relocation of practice?  (Select as many that apply; Please, specify your reasons if your responses include \"Other\")\n",
    "- 22. If your answer to question 16 above is “No”, what is your planned length of stay outside Nigeria if you eventually relocate?`,`23. If your answer to question 16 above is “No”, how likely is it that you will come back to Nigeria for practice after spending some time abroad?`\n",
    "- 23. If your answer to question 16 above is “No”, how likely is it that you will come back to Nigeria for practice after spending some time abroad? \n",
    "\n",
    "##### We will go through each of the these columns to assess why items are missing "
   ],
   "id": "58d7923b897f214d"
  },
  {
   "metadata": {
    "ExecuteTime": {
     "end_time": "2024-08-07T09:52:55.379011Z",
     "start_time": "2024-08-07T09:52:55.363289Z"
    }
   },
   "cell_type": "code",
   "source": [
    "# find how many of the individuals that are married that have spouse profession missing\n",
    "married_empty_spouse_prof = migration_dataset[\n",
    "    (migration_dataset[\"3. Marital status\"] == \"Married\") &\n",
    "    migration_dataset[\"4. If your answer to question 3 above is \\\"Married\\\" what is your spouse's profession?\"].isnull()\n",
    "    ].shape[0]\n",
    "married_empty_spouse_prof"
   ],
   "id": "954f7c50ad7811c7",
   "outputs": [
    {
     "data": {
      "text/plain": [
       "3"
      ]
     },
     "execution_count": 3,
     "metadata": {},
     "output_type": "execute_result"
    }
   ],
   "execution_count": 3
  },
  {
   "metadata": {},
   "cell_type": "markdown",
   "source": "##### The above shows that only 3 missing data in the real sense, this is because only individuals that are married are required to fill this column. I will fill the missing columns here with the mode of this column",
   "id": "28713c20b6b45354"
  },
  {
   "metadata": {
    "ExecuteTime": {
     "end_time": "2024-08-07T09:53:00.224528Z",
     "start_time": "2024-08-07T09:53:00.208381Z"
    }
   },
   "cell_type": "code",
   "source": [
    "# This locates the rows that are empty when individuals are married and the spouse profession is empty and replaces this with the mode of the spouse profession's column\n",
    "married_empty_sprof= (migration_dataset[\"3. Marital status\"] == \"Married\") & migration_dataset[\"4. If your answer to question 3 above is \\\"Married\\\" what is your spouse's profession?\"].isnull()\n",
    "\n",
    "migration_dataset.loc[married_empty_sprof, \"4. If your answer to question 3 above is \\\"Married\\\" what is your spouse's profession?\"] = migration_dataset[\"4. If your answer to question 3 above is \\\"Married\\\" what is your spouse's profession?\"].mode()[0]"
   ],
   "id": "be3ffff42273a0b3",
   "outputs": [],
   "execution_count": 4
  },
  {
   "metadata": {
    "ExecuteTime": {
     "end_time": "2024-08-07T09:53:03.368710Z",
     "start_time": "2024-08-07T09:53:03.354747Z"
    }
   },
   "cell_type": "code",
   "source": [
    "motivations_empty= migration_dataset[(migration_dataset[\"16. Are you willing to continue your professional practice in Nigeria? \"] == \"Yes\") & migration_dataset['17. If your answer to question 16 above is “Yes”, what is/are your motivations or concerns? (Select as many that apply; Please, specify the concerns if your responses include \"Other\").'].isnull()].shape[0]\n",
    "motivations_empty"
   ],
   "id": "c6ee241337c1fd2f",
   "outputs": [
    {
     "data": {
      "text/plain": [
       "0"
      ]
     },
     "execution_count": 5,
     "metadata": {},
     "output_type": "execute_result"
    }
   ],
   "execution_count": 5
  },
  {
   "metadata": {},
   "cell_type": "markdown",
   "source": "##### The above shows that no data is missing data in the real sense, this is because all individuals that answered \"Yes\" in the previous column `column 16`, that were meant to answer this column all answered",
   "id": "ea0dc0d455550abd"
  },
  {
   "metadata": {
    "ExecuteTime": {
     "end_time": "2024-08-07T09:53:05.859612Z",
     "start_time": "2024-08-07T09:53:05.846751Z"
    }
   },
   "cell_type": "code",
   "source": [
    "future_concerns = migration_dataset[(migration_dataset[\"16. Are you willing to continue your professional practice in Nigeria? \"] == \"Undecided\") & migration_dataset['18. If your answer to question 16 above is “Undecided”, what is/are your concerns regarding your future location of practice?  (Select as many that apply; Please, specify your reasons if your responses include \"Other\") '].isnull()].shape[0]\n",
    "future_concerns"
   ],
   "id": "44d84b6e72d31fdb",
   "outputs": [
    {
     "data": {
      "text/plain": [
       "3"
      ]
     },
     "execution_count": 6,
     "metadata": {},
     "output_type": "execute_result"
    }
   ],
   "execution_count": 6
  },
  {
   "metadata": {},
   "cell_type": "markdown",
   "source": "##### The above shows that only 3 missing data in the real sense, this is because only individuals that are undecided are required to fill this column and only 3 have not done that. I will fill the missing columns here with the mode of this column",
   "id": "ea65f3660a517fb7"
  },
  {
   "metadata": {
    "ExecuteTime": {
     "end_time": "2024-08-07T09:53:08.484331Z",
     "start_time": "2024-08-07T09:53:08.471474Z"
    }
   },
   "cell_type": "code",
   "source": [
    "# This locates the rows that are empty when individuals are undecided and their concerns for the future is empty and replaces them with the mode of the concerns for the future column\n",
    "migration_dataset.loc[\n",
    "    ((migration_dataset[\"16. Are you willing to continue your professional practice in Nigeria? \"] == \"Undecided\") & migration_dataset['18. If your answer to question 16 above is “Undecided”, what is/are your concerns regarding your future location of practice?  (Select as many that apply; Please, specify your reasons if your responses include \"Other\") '].isnull()),'18. If your answer to question 16 above is “Undecided”, what is/are your concerns regarding your future location of practice?  (Select as many that apply; Please, specify your reasons if your responses include \"Other\") '] = \\\n",
    "migration_dataset['18. If your answer to question 16 above is “Undecided”, what is/are your concerns regarding your future location of practice?  (Select as many that apply; Please, specify your reasons if your responses include \"Other\") '].mode()[0]"
   ],
   "id": "2a7d681a2555c035",
   "outputs": [],
   "execution_count": 7
  },
  {
   "metadata": {
    "ExecuteTime": {
     "end_time": "2024-08-07T09:53:11.155964Z",
     "start_time": "2024-08-07T09:53:11.143252Z"
    }
   },
   "cell_type": "code",
   "source": [
    "emigrate_to_empty= migration_dataset[(migration_dataset[\"16. Are you willing to continue your professional practice in Nigeria? \"] == \"No\") & migration_dataset['19.\tIf your answer to question 16 above is ‘No’, which country(ies) are you planning to emigrate to? (Select as many that apply; Please, specify the country if your responses include \"Other\")'].isnull()].shape[0]\n",
    "emigrate_to_empty"
   ],
   "id": "af894fb590a2725f",
   "outputs": [
    {
     "data": {
      "text/plain": [
       "1"
      ]
     },
     "execution_count": 8,
     "metadata": {},
     "output_type": "execute_result"
    }
   ],
   "execution_count": 8
  },
  {
   "metadata": {},
   "cell_type": "markdown",
   "source": "##### The above shows that only 1 missing data in the real sense, this is because only individuals that answered \"No\" to question No. 16 are required to fill this column and only 1 have not done that. I will fill the missing columns here with the mode of this column",
   "id": "47f04e3c413ce3e9"
  },
  {
   "metadata": {
    "ExecuteTime": {
     "end_time": "2024-08-07T09:53:13.838721Z",
     "start_time": "2024-08-07T09:53:13.826875Z"
    }
   },
   "cell_type": "code",
   "source": [
    "# This locates the rows that are empty when individuals answered 'no' to if they will practice in Nigeria and have not stated what country they are interested in immigrating to.\n",
    "migration_dataset.loc[((migration_dataset[\"16. Are you willing to continue your professional practice in Nigeria? \"] == \"No\") & migration_dataset['19.\tIf your answer to question 16 above is ‘No’, which country(ies) are you planning to emigrate to? (Select as many that apply; Please, specify the country if your responses include \"Other\")'].isnull()),'19.\tIf your answer to question 16 above is ‘No’, which country(ies) are you planning to emigrate to? (Select as many that apply; Please, specify the country if your responses include \"Other\")'] = migration_dataset['19.\tIf your answer to question 16 above is ‘No’, which country(ies) are you planning to emigrate to? (Select as many that apply; Please, specify the country if your responses include \"Other\")'].mode()[0]"
   ],
   "id": "19f5d632f8da3fa",
   "outputs": [],
   "execution_count": 9
  },
  {
   "metadata": {
    "ExecuteTime": {
     "end_time": "2024-08-07T09:53:16.312491Z",
     "start_time": "2024-08-07T09:53:16.302101Z"
    }
   },
   "cell_type": "code",
   "source": [
    "emigrate_date_empty= migration_dataset[(migration_dataset[\"16. Are you willing to continue your professional practice in Nigeria? \"] == \"No\") & migration_dataset['20. If your answer to question 16 above is ‘No’, when are you planning to emigrate from Nigeria? (Select as many that apply; Please, specify the time if your responses include \"Other\")    '].isnull()].shape[0]\n",
    "emigrate_date_empty"
   ],
   "id": "cea994c3630629f6",
   "outputs": [
    {
     "data": {
      "text/plain": [
       "10"
      ]
     },
     "execution_count": 10,
     "metadata": {},
     "output_type": "execute_result"
    }
   ],
   "execution_count": 10
  },
  {
   "metadata": {},
   "cell_type": "markdown",
   "source": "##### The above shows that 10 missing data in the real sense, this is because only individuals that answered \"No\" to question No. 16 are required to fill this column and only 10 have not done that. I will fill the missing columns here with the mode of this column",
   "id": "903cbf8c1c89951d"
  },
  {
   "metadata": {
    "ExecuteTime": {
     "end_time": "2024-08-07T09:53:19.006113Z",
     "start_time": "2024-08-07T09:53:18.983094Z"
    }
   },
   "cell_type": "code",
   "source": [
    "# This locates the rows that are empty when individuals answered 'no' to if they will practice in Nigeria and have not stated when they intend to emigrate.\n",
    "migration_dataset.loc[((migration_dataset[\"16. Are you willing to continue your professional practice in Nigeria? \"] == \"No\") & migration_dataset['20. If your answer to question 16 above is ‘No’, when are you planning to emigrate from Nigeria? (Select as many that apply; Please, specify the time if your responses include \"Other\")    '].isnull()),'20. If your answer to question 16 above is ‘No’, when are you planning to emigrate from Nigeria? (Select as many that apply; Please, specify the time if your responses include \"Other\")    '] = migration_dataset['20. If your answer to question 16 above is ‘No’, when are you planning to emigrate from Nigeria? (Select as many that apply; Please, specify the time if your responses include \"Other\")    '].mode()[0]"
   ],
   "id": "64ddaa8d99e753d4",
   "outputs": [],
   "execution_count": 11
  },
  {
   "metadata": {
    "ExecuteTime": {
     "end_time": "2024-08-07T09:53:21.524209Z",
     "start_time": "2024-08-07T09:53:21.500938Z"
    }
   },
   "cell_type": "code",
   "source": [
    "reason_for_emigrate_empty= migration_dataset[(migration_dataset[\"16. Are you willing to continue your professional practice in Nigeria? \"] == \"No\") & migration_dataset['21. If your answer to question 16 above is “No”, what is/are reason(s) for your planned relocation of practice?  (Select as many that apply; Please, specify your reasons if your responses include \"Other\") '].isnull()].shape[0]\n",
    "reason_for_emigrate_empty"
   ],
   "id": "edc5b9e072d6b9a8",
   "outputs": [
    {
     "data": {
      "text/plain": [
       "3"
      ]
     },
     "execution_count": 12,
     "metadata": {},
     "output_type": "execute_result"
    }
   ],
   "execution_count": 12
  },
  {
   "metadata": {},
   "cell_type": "markdown",
   "source": "##### The above shows that 3 missing data in the real sense, this is because only individuals that answered \"No\" to question No. 16 are required to fill this column and only 3 have not done that. I will fill the missing columns here with the mode of this column",
   "id": "3d79f276fbc91167"
  },
  {
   "metadata": {
    "ExecuteTime": {
     "end_time": "2024-08-07T09:53:27.378739Z",
     "start_time": "2024-08-07T09:53:27.369885Z"
    }
   },
   "cell_type": "code",
   "source": [
    "# This locates the rows that are empty when individuals answered 'no' to if they will practice in Nigeria and have not stated the reason for their planned relocation.\n",
    "migration_dataset.loc[((migration_dataset[\"16. Are you willing to continue your professional practice in Nigeria? \"] == \"No\") & migration_dataset['21. If your answer to question 16 above is “No”, what is/are reason(s) for your planned relocation of practice?  (Select as many that apply; Please, specify your reasons if your responses include \"Other\") '].isnull()),'21. If your answer to question 16 above is “No”, what is/are reason(s) for your planned relocation of practice?  (Select as many that apply; Please, specify your reasons if your responses include \"Other\") '] = migration_dataset['21. If your answer to question 16 above is “No”, what is/are reason(s) for your planned relocation of practice?  (Select as many that apply; Please, specify your reasons if your responses include \"Other\") '].mode()[0]"
   ],
   "id": "b17ddaf2a9f869fb",
   "outputs": [],
   "execution_count": 13
  },
  {
   "metadata": {
    "ExecuteTime": {
     "end_time": "2024-08-07T09:53:31.699736Z",
     "start_time": "2024-08-07T09:53:31.683396Z"
    }
   },
   "cell_type": "code",
   "source": [
    "planned_length_of_time_empty= migration_dataset[(migration_dataset[\"16. Are you willing to continue your professional practice in Nigeria? \"] == \"No\") & migration_dataset['22. If your answer to question 16 above is “No”, what is your planned length of stay outside Nigeria if you eventually relocate?  '].isnull()].shape[0]\n",
    "planned_length_of_time_empty"
   ],
   "id": "36f5a134e0ed697c",
   "outputs": [
    {
     "data": {
      "text/plain": [
       "4"
      ]
     },
     "execution_count": 15,
     "metadata": {},
     "output_type": "execute_result"
    }
   ],
   "execution_count": 15
  },
  {
   "metadata": {},
   "cell_type": "markdown",
   "source": "##### The above shows that 4 missing data in the real sense, this is because only individuals that answered \"No\" to question No. 16 are required to fill this column and only 4 have not done that. I will fill the missing columns here with the mode of this column",
   "id": "2eec041a3a593773"
  },
  {
   "metadata": {
    "ExecuteTime": {
     "end_time": "2024-08-07T09:53:34.095204Z",
     "start_time": "2024-08-07T09:53:34.086566Z"
    }
   },
   "cell_type": "code",
   "source": [
    "# This locates the rows that are empty when individuals answered 'no' to if they will practice in Nigeria and have not stated how long they planned to be away for.\n",
    "migration_dataset.loc[((migration_dataset[\"16. Are you willing to continue your professional practice in Nigeria? \"] == \"No\") & migration_dataset['22. If your answer to question 16 above is “No”, what is your planned length of stay outside Nigeria if you eventually relocate?  '].isnull()),'22. If your answer to question 16 above is “No”, what is your planned length of stay outside Nigeria if you eventually relocate?  '] = migration_dataset['22. If your answer to question 16 above is “No”, what is your planned length of stay outside Nigeria if you eventually relocate?  '].mode()[0]"
   ],
   "id": "e79dee64849666a5",
   "outputs": [],
   "execution_count": 16
  },
  {
   "metadata": {
    "ExecuteTime": {
     "end_time": "2024-08-07T09:53:36.392041Z",
     "start_time": "2024-08-07T09:53:36.376807Z"
    }
   },
   "cell_type": "code",
   "source": [
    "Return_empty= migration_dataset[(migration_dataset[\"16. Are you willing to continue your professional practice in Nigeria? \"] == \"No\") & migration_dataset['23. If your answer to question 16 above is “No”, how likely is it that you will come back to Nigeria for practice after spending some time abroad?  '].isnull()].shape[0]\n",
    "Return_empty"
   ],
   "id": "71a75f2f8d6d7eba",
   "outputs": [
    {
     "data": {
      "text/plain": [
       "5"
      ]
     },
     "execution_count": 17,
     "metadata": {},
     "output_type": "execute_result"
    }
   ],
   "execution_count": 17
  },
  {
   "metadata": {},
   "cell_type": "markdown",
   "source": "##### The above shows that 5 missing data in the real sense, this is because only individuals that answered \"No\" to question No. 16 are required to fill this column and only 5 have not done that. I will fill the missing columns here with the mode of this column",
   "id": "30e9731b3383a7aa"
  },
  {
   "metadata": {
    "ExecuteTime": {
     "end_time": "2024-08-07T09:53:38.769650Z",
     "start_time": "2024-08-07T09:53:38.758732Z"
    }
   },
   "cell_type": "code",
   "source": [
    "# This locates the rows that are empty when individuals answered 'no' to if they will practice in Nigeria and have not stated if they will ever return back to Nigeria\n",
    "migration_dataset.loc[((migration_dataset[\"16. Are you willing to continue your professional practice in Nigeria? \"] == \"No\") & migration_dataset['23. If your answer to question 16 above is “No”, how likely is it that you will come back to Nigeria for practice after spending some time abroad?  '].isnull()),'23. If your answer to question 16 above is “No”, how likely is it that you will come back to Nigeria for practice after spending some time abroad?  '] = migration_dataset['23. If your answer to question 16 above is “No”, how likely is it that you will come back to Nigeria for practice after spending some time abroad?  '].mode()[0]"
   ],
   "id": "a2043c7bd4d3ca85",
   "outputs": [],
   "execution_count": 18
  },
  {
   "metadata": {
    "ExecuteTime": {
     "end_time": "2024-08-07T09:14:57.748521Z",
     "start_time": "2024-08-07T09:14:57.737054Z"
    }
   },
   "cell_type": "code",
   "source": "migration_dataset.shape",
   "id": "7030709fd2ba90d0",
   "outputs": [
    {
     "data": {
      "text/plain": [
       "(925, 24)"
      ]
     },
     "execution_count": 57,
     "metadata": {},
     "output_type": "execute_result"
    }
   ],
   "execution_count": 57
  },
  {
   "metadata": {
    "ExecuteTime": {
     "end_time": "2024-08-07T09:18:19.500120Z",
     "start_time": "2024-08-07T09:18:19.487454Z"
    }
   },
   "cell_type": "code",
   "source": "migration_dataset.isnull().sum()",
   "id": "17658e2390df4662",
   "outputs": [
    {
     "data": {
      "text/plain": [
       "Timestamp                                                                                                                                                                                                                        0\n",
       "1. Your age at your last birthday                                                                                                                                                                                                0\n",
       "2. Your sex                                                                                                                                                                                                                      0\n",
       "3. Marital status                                                                                                                                                                                                                0\n",
       "4. If your answer to question 3 above is \"Married\" what is your spouse's profession?                                                                                                                                           216\n",
       "5. Your religion. (Please, specify the religion if your response is 'Other')                                                                                                                                                     2\n",
       "6. Highest education acquired. (Please, specify if your response is 'Other')                                                                                                                                                     0\n",
       "7. What is your country of acquiring first professional (MBBS or equivalent) degree? (Please, specify the country if your response is 'Other')                                                                                   0\n",
       "8. What type of institution did you attend to obtain MBBS?                                                                                                                                                                       0\n",
       "9. What is your current professional cadre?                                                                                                                                                                                      0\n",
       "10. What is your area of specialization or interest to specialize. (Please, specify the specialty if your response is 'Other')                                                                                                   2\n",
       "11. What is the duration of your professional (post MBBS) practice in years?                                                                                                                                                     1\n",
       "12. What is your state of practice or training?                                                                                                                                                                                  0\n",
       "13. In what type of health facility are you currently practicing?                                                                                                                                                                0\n",
       "14. How would you describe the location of your practice?                                                                                                                                                                        0\n",
       "15. How satisfied are you with your current professional practice in Nigeria?                                                                                                                                                    0\n",
       "16. Are you willing to continue your professional practice in Nigeria?                                                                                                                                                           0\n",
       "17. If your answer to question 16 above is “Yes”, what is/are your motivations or concerns? (Select as many that apply; Please, specify the concerns if your responses include \"Other\").                                       728\n",
       "18. If your answer to question 16 above is “Undecided”, what is/are your concerns regarding your future location of practice?  (Select as many that apply; Please, specify your reasons if your responses include \"Other\")     545\n",
       "19.\\tIf your answer to question 16 above is ‘No’, which country(ies) are you planning to emigrate to? (Select as many that apply; Please, specify the country if your responses include \"Other\")                               473\n",
       "20. If your answer to question 16 above is ‘No’, when are you planning to emigrate from Nigeria? (Select as many that apply; Please, specify the time if your responses include \"Other\")                                       483\n",
       "21. If your answer to question 16 above is “No”, what is/are reason(s) for your planned relocation of practice?  (Select as many that apply; Please, specify your reasons if your responses include \"Other\")                   487\n",
       "22. If your answer to question 16 above is “No”, what is your planned length of stay outside Nigeria if you eventually relocate?                                                                                               480\n",
       "23. If your answer to question 16 above is “No”, how likely is it that you will come back to Nigeria for practice after spending some time abroad?                                                                             477\n",
       "dtype: int64"
      ]
     },
     "execution_count": 62,
     "metadata": {},
     "output_type": "execute_result"
    }
   ],
   "execution_count": 62
  },
  {
   "metadata": {
    "ExecuteTime": {
     "end_time": "2024-08-07T09:53:44.159492Z",
     "start_time": "2024-08-07T09:53:44.145585Z"
    }
   },
   "cell_type": "code",
   "source": "migration_dataset[\"5. Your religion. (Please, specify the religion if your response is 'Other')\"].isnull().sum()",
   "id": "3696f6f78f1ffa04",
   "outputs": [
    {
     "data": {
      "text/plain": [
       "2"
      ]
     },
     "execution_count": 19,
     "metadata": {},
     "output_type": "execute_result"
    }
   ],
   "execution_count": 19
  },
  {
   "metadata": {},
   "cell_type": "markdown",
   "source": "##### The above shows that there are 2 missing data in the \"Your religion. ...\" column. I will fill the missing columns here with the mode of this column",
   "id": "ccc982d74adf35ca"
  },
  {
   "metadata": {
    "ExecuteTime": {
     "end_time": "2024-08-07T09:53:46.055728Z",
     "start_time": "2024-08-07T09:53:46.042842Z"
    }
   },
   "cell_type": "code",
   "source": "migration_dataset.loc[(migration_dataset[\"5. Your religion. (Please, specify the religion if your response is 'Other')\"].isnull()),\"5. Your religion. (Please, specify the religion if your response is 'Other')\"] = migration_dataset[\"5. Your religion. (Please, specify the religion if your response is 'Other')\"].mode()[0]",
   "id": "b6e980a3822356bd",
   "outputs": [],
   "execution_count": 20
  },
  {
   "metadata": {
    "ExecuteTime": {
     "end_time": "2024-08-07T09:53:48.748060Z",
     "start_time": "2024-08-07T09:53:48.736856Z"
    }
   },
   "cell_type": "code",
   "source": "migration_dataset[\"10. What is your area of specialization or interest to specialize. (Please, specify the specialty if your response is 'Other')\"].isnull().sum()",
   "id": "c1288f15bbb244a2",
   "outputs": [
    {
     "data": {
      "text/plain": [
       "2"
      ]
     },
     "execution_count": 21,
     "metadata": {},
     "output_type": "execute_result"
    }
   ],
   "execution_count": 21
  },
  {
   "metadata": {},
   "cell_type": "markdown",
   "source": "##### The above shows that there are 2 missing data in the \"What is your area of specialization or interest to specialize. ...\" column. I will fill the missing columns here with the mode of this column",
   "id": "afa943ebc3d1d910"
  },
  {
   "metadata": {
    "ExecuteTime": {
     "end_time": "2024-08-07T09:53:51.299224Z",
     "start_time": "2024-08-07T09:53:51.289772Z"
    }
   },
   "cell_type": "code",
   "source": "migration_dataset.loc[(migration_dataset[\"10. What is your area of specialization or interest to specialize. (Please, specify the specialty if your response is 'Other')\"].isnull()),\"10. What is your area of specialization or interest to specialize. (Please, specify the specialty if your response is 'Other')\"] = migration_dataset[\"10. What is your area of specialization or interest to specialize. (Please, specify the specialty if your response is 'Other')\"].mode()[0]",
   "id": "21363cd6c3de962",
   "outputs": [],
   "execution_count": 22
  },
  {
   "metadata": {
    "ExecuteTime": {
     "end_time": "2024-08-07T09:53:53.319181Z",
     "start_time": "2024-08-07T09:53:53.308884Z"
    }
   },
   "cell_type": "code",
   "source": "migration_dataset[\"11. What is the duration of your professional (post MBBS) practice in years?\"].isnull().sum()",
   "id": "71f23b5ddb91e103",
   "outputs": [
    {
     "data": {
      "text/plain": [
       "1"
      ]
     },
     "execution_count": 23,
     "metadata": {},
     "output_type": "execute_result"
    }
   ],
   "execution_count": 23
  },
  {
   "metadata": {},
   "cell_type": "markdown",
   "source": "##### The above shows that there is 1 missing data in the \"What is the duration of your professional (post MBBS) practice in years?\" column. I will fill the missing columns here with the mode of this column",
   "id": "75ef51b03bc08021"
  },
  {
   "metadata": {
    "ExecuteTime": {
     "end_time": "2024-08-07T09:53:55.628084Z",
     "start_time": "2024-08-07T09:53:55.614007Z"
    }
   },
   "cell_type": "code",
   "source": "migration_dataset.loc[(migration_dataset[\"11. What is the duration of your professional (post MBBS) practice in years?\"].isnull()),\"11. What is the duration of your professional (post MBBS) practice in years?\"] = migration_dataset[\"11. What is the duration of your professional (post MBBS) practice in years?\"].mode()[0]",
   "id": "794c796c8c236970",
   "outputs": [],
   "execution_count": 24
  },
  {
   "metadata": {
    "ExecuteTime": {
     "end_time": "2024-08-07T09:53:57.800733Z",
     "start_time": "2024-08-07T09:53:57.788549Z"
    }
   },
   "cell_type": "code",
   "source": [
    "# function to convert the birthday from string to integer\n",
    "def digit(df, col):\n",
    "    age_arr = []\n",
    "    for str in df[col]:\n",
    "        age = []\n",
    "        counter = 0\n",
    "        for c in str:\n",
    "            if c.isdigit():\n",
    "                if c == \"⁷\":\n",
    "                    c = \"7\"\n",
    "                age.append(c)\n",
    "                counter += 1\n",
    "        if counter == 0:\n",
    "            age_arr.append(int(\"0\"))\n",
    "        else:\n",
    "            age_arr.append(int(''.join(age)))\n",
    "    return age_arr\n",
    "\n",
    "# create a new column in the dataframe for the converted birthday\n",
    "migration_dataset[\"Birthday (int)\"] = digit(migration_dataset, \"1. Your age at your last birthday\")"
   ],
   "id": "4fe15c7bb731a5e0",
   "outputs": [],
   "execution_count": 25
  },
  {
   "metadata": {
    "ExecuteTime": {
     "end_time": "2024-08-07T09:54:00.086651Z",
     "start_time": "2024-08-07T09:54:00.071747Z"
    }
   },
   "cell_type": "code",
   "source": "migration_dataset.shape",
   "id": "1d5ba35b917e0484",
   "outputs": [
    {
     "data": {
      "text/plain": [
       "(925, 25)"
      ]
     },
     "execution_count": 26,
     "metadata": {},
     "output_type": "execute_result"
    }
   ],
   "execution_count": 26
  },
  {
   "metadata": {},
   "cell_type": "markdown",
   "source": "##### New column with age converted to integer now added to the dataframe",
   "id": "e5ffd4e8809366f0"
  },
  {
   "metadata": {
    "ExecuteTime": {
     "end_time": "2024-08-07T09:54:02.766495Z",
     "start_time": "2024-08-07T09:54:02.748556Z"
    }
   },
   "cell_type": "code",
   "source": "(migration_dataset[\"Birthday (int)\"] == 0).value_counts()",
   "id": "ecb305cf571f3422",
   "outputs": [
    {
     "data": {
      "text/plain": [
       "Birthday (int)\n",
       "False    923\n",
       "True       2\n",
       "Name: count, dtype: int64"
      ]
     },
     "execution_count": 27,
     "metadata": {},
     "output_type": "execute_result"
    }
   ],
   "execution_count": 27
  },
  {
   "metadata": {},
   "cell_type": "markdown",
   "source": "##### The above shows that there is 2 missing age, I will have to fill the missing data with the mean of that column",
   "id": "d2f251d1265bcd64"
  },
  {
   "metadata": {
    "ExecuteTime": {
     "end_time": "2024-08-07T09:54:05.624033Z",
     "start_time": "2024-08-07T09:54:05.596397Z"
    }
   },
   "cell_type": "code",
   "source": [
    "# first replace zeros with NaN and then fill those missing values with the mean value of the birthday column\n",
    "migration_dataset[\"Birthday (int)\"] = migration_dataset[\"Birthday (int)\"].mask(migration_dataset[\"Birthday (int)\"] == 0).fillna(migration_dataset[\"Birthday (int)\"].mean())"
   ],
   "id": "8933a03763e054da",
   "outputs": [],
   "execution_count": 28
  },
  {
   "metadata": {
    "ExecuteTime": {
     "end_time": "2024-08-07T09:54:08.022765Z",
     "start_time": "2024-08-07T09:54:08.006629Z"
    }
   },
   "cell_type": "code",
   "source": [
    "average_age = migration_dataset[\"Birthday (int)\"].mean()\n",
    "f\"{average_age:.0f}\""
   ],
   "id": "4c1e5a1542a9539",
   "outputs": [
    {
     "data": {
      "text/plain": [
       "'38'"
      ]
     },
     "execution_count": 29,
     "metadata": {},
     "output_type": "execute_result"
    }
   ],
   "execution_count": 29
  },
  {
   "metadata": {},
   "cell_type": "markdown",
   "source": " ##### The mean age of the physicians that took part in the survey is **`38 years old`**",
   "id": "8c982ed18c72a10a"
  },
  {
   "metadata": {
    "ExecuteTime": {
     "end_time": "2024-08-07T11:43:25.169151Z",
     "start_time": "2024-08-07T11:43:25.147848Z"
    }
   },
   "cell_type": "code",
   "source": "migration_dataset[\"15. How satisfied are you with your current professional practice in Nigeria?\"].value_counts()",
   "id": "6716d0bdca17235d",
   "outputs": [
    {
     "data": {
      "text/plain": [
       "15. How satisfied are you with your current professional practice in Nigeria?\n",
       "Unsatisfied         516\n",
       "Very unsatisfied    290\n",
       "Satisfied           109\n",
       "Very satisfied       10\n",
       "Name: count, dtype: int64"
      ]
     },
     "execution_count": 37,
     "metadata": {},
     "output_type": "execute_result"
    }
   ],
   "execution_count": 37
  },
  {
   "metadata": {},
   "cell_type": "markdown",
   "source": "##### There seems to be typo in the spelling for \"Satisfied\"; instead of `Satisfied`, it is `Satified`; this needs to be corrected",
   "id": "79866454eaa60765"
  },
  {
   "metadata": {
    "ExecuteTime": {
     "end_time": "2024-08-07T11:43:20.104839Z",
     "start_time": "2024-08-07T11:43:20.094708Z"
    }
   },
   "cell_type": "code",
   "source": "migration_dataset.loc[(migration_dataset[\"15. How satisfied are you with your current professional practice in Nigeria?\"] == \"Satified\"), \"15. How satisfied are you with your current professional practice in Nigeria?\"] = \"Satisfied\"",
   "id": "9935fb67eb61f5e7",
   "outputs": [],
   "execution_count": 36
  },
  {
   "metadata": {},
   "cell_type": "markdown",
   "source": "#### Write the cleaned up dataframe to s3 bucket",
   "id": "e3901650e5803762"
  },
  {
   "metadata": {
    "ExecuteTime": {
     "end_time": "2024-08-07T11:45:19.349951Z",
     "start_time": "2024-08-07T11:45:19.322378Z"
    }
   },
   "cell_type": "code",
   "source": [
    "# instantiate and upload dataset to AWS S3 bucket\n",
    "conn = S3Connection()"
   ],
   "id": "318e97a18b352b10",
   "outputs": [],
   "execution_count": 41
  },
  {
   "metadata": {
    "ExecuteTime": {
     "end_time": "2024-08-07T11:45:23.534992Z",
     "start_time": "2024-08-07T11:45:21.577557Z"
    }
   },
   "cell_type": "code",
   "source": [
    "# write dataframe into s3 bucket\n",
    "conn.write_df(migration_dataset, \"medsafe-docs\", \"medsafe-docs/physicians_migration_additional_cleaned_data.csv\")"
   ],
   "id": "840311c0952480b1",
   "outputs": [],
   "execution_count": 42
  },
  {
   "metadata": {},
   "cell_type": "code",
   "outputs": [],
   "execution_count": null,
   "source": "",
   "id": "d2db2af32389a397"
  }
 ],
 "metadata": {
  "kernelspec": {
   "display_name": "Python 3",
   "language": "python",
   "name": "python3"
  },
  "language_info": {
   "codemirror_mode": {
    "name": "ipython",
    "version": 2
   },
   "file_extension": ".py",
   "mimetype": "text/x-python",
   "name": "python",
   "nbconvert_exporter": "python",
   "pygments_lexer": "ipython2",
   "version": "2.7.6"
  }
 },
 "nbformat": 4,
 "nbformat_minor": 5
}
